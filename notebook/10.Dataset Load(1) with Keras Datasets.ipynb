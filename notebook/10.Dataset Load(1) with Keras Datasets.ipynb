{
 "cells": [
  {
   "cell_type": "code",
   "execution_count": 1,
   "id": "4f6c887d",
   "metadata": {},
   "outputs": [],
   "source": [
    "import tensorflow as tf\n",
    "import numpy as np\n",
    "import matplotlib.pyplot as plt"
   ]
  },
  {
   "cell_type": "code",
   "execution_count": 2,
   "id": "c98590ad",
   "metadata": {},
   "outputs": [
    {
     "name": "stdout",
     "output_type": "stream",
     "text": [
      "(64, 1) (64, 1) \n",
      "\n",
      "(64, 1) (64, 1) \n",
      "\n",
      "(64, 1) (64, 1) \n",
      "\n",
      "(64, 1) (64, 1) \n",
      "\n",
      "(64, 1) (64, 1) \n",
      "\n",
      "(64, 1) (64, 1) \n",
      "\n",
      "(64, 1) (64, 1) \n",
      "\n",
      "(64, 1) (64, 1) \n",
      "\n",
      "(64, 1) (64, 1) \n",
      "\n",
      "(64, 1) (64, 1) \n",
      "\n",
      "(64, 1) (64, 1) \n",
      "\n",
      "(64, 1) (64, 1) \n",
      "\n",
      "(64, 1) (64, 1) \n",
      "\n",
      "(64, 1) (64, 1) \n",
      "\n",
      "(64, 1) (64, 1) \n",
      "\n",
      "(40, 1) (40, 1) \n",
      "\n"
     ]
    }
   ],
   "source": [
    "x_train = np.arange(1000).astype(np.float32).reshape(-1, 1)\n",
    "y_train = 3*x_train + 1\n",
    "\n",
    "train_dataset = tf.data.Dataset.from_tensor_slices((x_train, y_train))\n",
    "train_dataset = train_dataset.shuffle(10).batch(64)\n",
    "\n",
    "for x, y in train_dataset:\n",
    "    print(x.shape, y.shape, '\\n')"
   ]
  },
  {
   "cell_type": "code",
   "execution_count": 3,
   "id": "504d4e58",
   "metadata": {},
   "outputs": [],
   "source": [
    "from tensorflow.keras.datasets import mnist\n",
    "\n",
    "(train_images, train_labels), (test_images, test_labels) = mnist.load_data()\n",
    "\n",
    "train_dataset = tf.data.Dataset.from_tensor_slices((train_images, train_labels))\n",
    "train_dataset = train_dataset.shuffle(60000).batch(9)\n",
    "\n",
    "test_dataset = tf.data.Dataset.from_tensor_slices((test_images, test_labels))\n",
    "test_dataset = test_dataset.batch(9)"
   ]
  },
  {
   "cell_type": "code",
   "execution_count": 4,
   "id": "a531caf9",
   "metadata": {},
   "outputs": [
    {
     "name": "stdout",
     "output_type": "stream",
     "text": [
      "(9, 28, 28)\n",
      "(9,)\n"
     ]
    }
   ],
   "source": [
    "train_dataset_iter = iter(train_dataset)\n",
    "images, labels = next(train_dataset_iter)\n",
    "\n",
    "print(images.shape)\n",
    "print(labels.shape)"
   ]
  },
  {
   "cell_type": "code",
   "execution_count": 5,
   "id": "39835cd0",
   "metadata": {},
   "outputs": [
    {
     "data": {
      "image/png": "[encoded data removed]",
      "text/plain": [
       "<Figure size 720x720 with 9 Axes>"
      ]
     },
     "metadata": {
      "needs_background": "light"
     },
     "output_type": "display_data"
    }
   ],
   "source": [
    "fig, axes = plt.subplots(3, 3, figsize = (10, 10))\n",
    "\n",
    "for ax_idx, ax in enumerate(axes.flat):\n",
    "    image = images[ax_idx,:]\n",
    "    label = labels[ax_idx]\n",
    "    \n",
    "    ax.imshow(image.numpy(), 'gray')\n",
    "    ax.set_title(label.numpy(), fontsize = 20)\n",
    "    \n",
    "    ax.get_xaxis().set_visible(False)\n",
    "    ax.get_yaxis().set_visible(False)"
   ]
  }
 ],
 "metadata": {
  "kernelspec": {
   "display_name": "Python 3 (ipykernel)",
   "language": "python",
   "name": "python3"
  },
  "language_info": {
   "codemirror_mode": {
    "name": "ipython",
    "version": 3
   },
   "file_extension": ".py",
   "mimetype": "text/x-python",
   "name": "python",
   "nbconvert_exporter": "python",
   "pygments_lexer": "ipython3",
   "version": "3.8.12"
  }
 },
 "nbformat": 4,
 "nbformat_minor": 5
}

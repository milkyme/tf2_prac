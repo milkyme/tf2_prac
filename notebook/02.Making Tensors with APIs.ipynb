{
 "cells": [
  {
   "cell_type": "code",
   "execution_count": 1,
   "id": "a1460480",
   "metadata": {},
   "outputs": [],
   "source": [
    "import tensorflow as tf\n",
    "import numpy as np"
   ]
  },
  {
   "cell_type": "code",
   "execution_count": 3,
   "id": "86cab6c2",
   "metadata": {},
   "outputs": [
    {
     "name": "stdout",
     "output_type": "stream",
     "text": [
      "tf.Tensor([1. 1. 1. 1. 1. 1. 1. 1. 1. 1.], shape=(10,), dtype=float32)\n"
     ]
    },
    {
     "name": "stderr",
     "output_type": "stream",
     "text": [
      "2022-01-05 16:48:41.727150: I tensorflow/core/platform/cpu_feature_guard.cc:151] This TensorFlow binary is optimized with oneAPI Deep Neural Network Library (oneDNN) to use the following CPU instructions in performance-critical operations:  AVX2 FMA\n",
      "To enable them in other operations, rebuild TensorFlow with the appropriate compiler flags.\n"
     ]
    }
   ],
   "source": [
    "t1 = tf.ones(shape = (10, ))\n",
    "print(t1)"
   ]
  },
  {
   "cell_type": "code",
   "execution_count": 4,
   "id": "eaa3932b",
   "metadata": {},
   "outputs": [
    {
     "name": "stdout",
     "output_type": "stream",
     "text": [
      "tf.Tensor([3. 3. 3. 3. 3. 3. 3. 3. 3. 3.], shape=(10,), dtype=float32)\n"
     ]
    }
   ],
   "source": [
    "# elementwise mul\n",
    "t2 = 3*t1\n",
    "print(t2)"
   ]
  },
  {
   "cell_type": "code",
   "execution_count": 5,
   "id": "7be3661b",
   "metadata": {},
   "outputs": [
    {
     "name": "stdout",
     "output_type": "stream",
     "text": [
      "tf.Tensor([0. 0. 0. 0. 0. 0. 0. 0. 0. 0.], shape=(10,), dtype=float32)\n"
     ]
    }
   ],
   "source": [
    "t3 = tf.zeros_like(t2) #==tf.zeros(shape=t2.shape)\n",
    "print(t3)"
   ]
  },
  {
   "cell_type": "code",
   "execution_count": 7,
   "id": "cf51608b",
   "metadata": {},
   "outputs": [
    {
     "name": "stdout",
     "output_type": "stream",
     "text": [
      "tf.Tensor(\n",
      "[[-2.3883544e-01  9.1834581e-01  2.0255753e-01  1.9551188e-01\n",
      "   7.5950336e-01  3.9352006e-01  2.3169489e-01 -6.3582009e-01\n",
      "  -2.0050516e+00 -3.5905689e-02]\n",
      " [ 5.6134558e-01 -2.7691171e+00  1.7955489e+00 -1.3411770e+00\n",
      "  -1.5715888e+00 -3.1138876e-01 -7.0207760e-02 -4.2640343e-01\n",
      "  -9.5288157e-02 -2.1249719e-01]\n",
      " [ 6.0764253e-02 -5.0135285e-01  2.1385846e+00  6.4102101e-01\n",
      "  -2.1223436e-01  3.4981545e-02  7.4286711e-01 -1.5697968e+00\n",
      "   1.4973068e+00 -4.6599725e-01]\n",
      " [-3.2538381e-01 -1.1882833e+00  4.4067180e-01  1.5484908e+00\n",
      "  -1.7105964e+00  3.0757734e-01  6.9487768e-01  7.7135271e-01\n",
      "   1.4863769e-02 -1.5562010e-01]\n",
      " [ 1.1955589e+00  2.3444332e-03 -1.2769340e-01  2.4736543e-01\n",
      "   7.6119977e-01  1.2758338e-01 -8.2701319e-01 -1.1622334e+00\n",
      "  -7.1846050e-01 -2.7746835e-01]\n",
      " [-5.6267762e-01 -3.1716993e-01 -1.0388490e+00 -3.3766857e-01\n",
      "   5.8895636e-01 -7.2241825e-01 -2.0340687e-01  2.7934062e-01\n",
      "   1.0157056e+00  1.4125086e+00]\n",
      " [ 3.1457298e+00 -3.6690292e-01 -1.7581588e+00 -8.8129506e-02\n",
      "   2.5126544e-01  2.2610831e+00  9.7344303e-01  1.0799170e+00\n",
      "  -6.4053988e-01  1.4212471e+00]\n",
      " [-1.7782363e-01 -4.0159723e-01  7.4631196e-01 -4.9343896e-01\n",
      "  -2.2068620e+00 -8.2240438e-01  3.1943271e+00  1.0585308e+00\n",
      "   2.9275367e+00  4.9222377e-01]\n",
      " [-1.4471537e-01 -1.2612556e+00  9.1044980e-01  1.7607954e+00\n",
      "  -5.5690694e-01  1.0415155e+00 -1.1347171e-02 -5.0816834e-01\n",
      "   4.8024553e-01 -6.3638812e-01]\n",
      " [ 4.2796400e-01  4.7031957e-01 -6.5621704e-02  3.8225716e-01\n",
      "   8.3601797e-01 -5.6918776e-01  5.2812880e-01 -9.2690349e-01\n",
      "  -1.0092149e+00 -4.3083581e-01]], shape=(10, 10), dtype=float32)\n"
     ]
    }
   ],
   "source": [
    "t4 = tf.random.normal(shape=(10, 10)) # std norm dist random init\n",
    "print(t4)"
   ]
  },
  {
   "cell_type": "code",
   "execution_count": 11,
   "id": "f1e4bc8f",
   "metadata": {},
   "outputs": [
    {
     "name": "stdout",
     "output_type": "stream",
     "text": [
      "tf.Tensor(\n",
      "[[ 1.5110626   0.42292204 -0.41969493]\n",
      " [-1.0360372  -1.2368279   0.47027302]\n",
      " [-0.01397489  1.1888583   0.60253334]], shape=(3, 3), dtype=float32)\n"
     ]
    }
   ],
   "source": [
    "tf.random.set_seed(0)\n",
    "t5 = tf.random.normal(shape=(3, 3))\n",
    "print(t5)"
   ]
  },
  {
   "cell_type": "code",
   "execution_count": 2,
   "id": "a0c4be16",
   "metadata": {},
   "outputs": [
    {
     "name": "stderr",
     "output_type": "stream",
     "text": [
      "2022-01-05 17:02:25.743038: I tensorflow/core/platform/cpu_feature_guard.cc:151] This TensorFlow binary is optimized with oneAPI Deep Neural Network Library (oneDNN) to use the following CPU instructions in performance-critical operations:  AVX2 FMA\n",
      "To enable them in other operations, rebuild TensorFlow with the appropriate compiler flags.\n"
     ]
    },
    {
     "data": {
      "text/plain": [
       "(array([  3.,   3.,   3.,   6.,  11.,  10.,  30.,  22.,  56.,  57.,  69.,\n",
       "         70.,  80.,  93., 112.,  74.,  64.,  60.,  43.,  48.,  29.,  21.,\n",
       "         21.,   4.,   5.,   3.,   2.,   0.,   0.,   1.]),\n",
       " array([-4.4325085 , -3.7587805 , -3.0850527 , -2.4113247 , -1.7375968 ,\n",
       "        -1.0638689 , -0.39014092,  0.283587  ,  0.9573149 ,  1.6310428 ,\n",
       "         2.3047707 ,  2.9784987 ,  3.6522267 ,  4.3259544 ,  4.9996824 ,\n",
       "         5.6734104 ,  6.3471384 ,  7.0208664 ,  7.6945944 ,  8.368322  ,\n",
       "         9.04205   ,  9.715778  , 10.389506  , 11.063233  , 11.736961  ,\n",
       "        12.410689  , 13.084417  , 13.758145  , 14.431873  , 15.105601  ,\n",
       "        15.779329  ], dtype=float32),\n",
       " <BarContainer object of 30 artists>)"
      ]
     },
     "execution_count": 2,
     "metadata": {},
     "output_type": "execute_result"
    },
    {
     "data": {
      "image/png": "[encoded data removed]",
      "text/plain": [
       "<Figure size 1080x1080 with 1 Axes>"
      ]
     },
     "metadata": {
      "needs_background": "light"
     },
     "output_type": "display_data"
    }
   ],
   "source": [
    "import matplotlib.pyplot as plt\n",
    "\n",
    "t6 = tf.random.normal(mean = 5, stddev = 3, shape = (1000,)) # various random init\n",
    "fig, ax = plt.subplots(figsize = (15, 15))\n",
    "ax.hist(t6.numpy(), bins = 30)"
   ]
  },
  {
   "cell_type": "code",
   "execution_count": 3,
   "id": "26304fff",
   "metadata": {},
   "outputs": [
    {
     "name": "stdout",
     "output_type": "stream",
     "text": [
      "(5, 5, 5)\n",
      "<dtype: 'float32'>\n"
     ]
    }
   ],
   "source": [
    "t7 = tf.random.normal(shape=(5, 5, 5))\n",
    "\n",
    "print(t7.shape)\n",
    "print(t7.dtype)"
   ]
  },
  {
   "cell_type": "code",
   "execution_count": 5,
   "id": "329a5dcd",
   "metadata": {},
   "outputs": [
    {
     "name": "stdout",
     "output_type": "stream",
     "text": [
      "int64\n",
      "<dtype: 'float32'>\n"
     ]
    }
   ],
   "source": [
    "t8_sub = np.random.randint(-10, 10, size = (10, ))\n",
    "print(t8_sub.dtype)\n",
    "\n",
    "t8 = tf.constant(t8_sub, dtype = tf.float32)\n",
    "print(t8.dtype)"
   ]
  },
  {
   "cell_type": "code",
   "execution_count": null,
   "id": "1ab4573f",
   "metadata": {},
   "outputs": [],
   "source": []
  }
 ],
 "metadata": {
  "kernelspec": {
   "display_name": "Python 3 (ipykernel)",
   "language": "python",
   "name": "python3"
  },
  "language_info": {
   "codemirror_mode": {
    "name": "ipython",
    "version": 3
   },
   "file_extension": ".py",
   "mimetype": "text/x-python",
   "name": "python",
   "nbconvert_exporter": "python",
   "pygments_lexer": "ipython3",
   "version": "3.8.12"
  }
 },
 "nbformat": 4,
 "nbformat_minor": 5
}

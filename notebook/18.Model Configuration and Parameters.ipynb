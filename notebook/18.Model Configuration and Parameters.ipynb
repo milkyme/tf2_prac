{
 "cells": [
  {
   "cell_type": "code",
   "execution_count": 1,
   "id": "8d2c8493",
   "metadata": {},
   "outputs": [],
   "source": [
    "import tensorflow as tf\n",
    "\n",
    "from tensorflow.keras.models import Sequential\n",
    "from tensorflow.keras.layers import Conv2D, MaxPooling2D, Dropout\n",
    "from tensorflow.keras.layers import Flatten, Dense, Activation"
   ]
  },
  {
   "cell_type": "code",
   "execution_count": 2,
   "id": "259bd284",
   "metadata": {},
   "outputs": [
    {
     "name": "stdout",
     "output_type": "stream",
     "text": [
      "Model: \"sequential\"\n",
      "_________________________________________________________________\n",
      " Layer (type)                Output Shape              Param #   \n",
      "=================================================================\n",
      " conv_1 (Conv2D)             (None, 26, 26, 10)        100       \n",
      "                                                                 \n",
      " conv_1_maxpool (MaxPooling2  (None, 13, 13, 10)       0         \n",
      " D)                                                              \n",
      "                                                                 \n",
      " conv_1_act (Activation)     (None, 13, 13, 10)        0         \n",
      "                                                                 \n",
      " conv_2 (Conv2D)             (None, 11, 11, 10)        910       \n",
      "                                                                 \n",
      " conv_2_maxpool (MaxPooling2  (None, 5, 5, 10)         0         \n",
      " D)                                                              \n",
      "                                                                 \n",
      " softmax (Activation)        (None, 5, 5, 10)          0         \n",
      "                                                                 \n",
      " flatten (Flatten)           (None, 250)               0         \n",
      "                                                                 \n",
      " dense_1 (Dense)             (None, 32)                8032      \n",
      "                                                                 \n",
      " dense_2 (Dense)             (None, 10)                330       \n",
      "                                                                 \n",
      "=================================================================\n",
      "Total params: 9,372\n",
      "Trainable params: 9,372\n",
      "Non-trainable params: 0\n",
      "_________________________________________________________________\n"
     ]
    },
    {
     "name": "stderr",
     "output_type": "stream",
     "text": [
      "2022-02-17 15:02:26.897937: I tensorflow/core/platform/cpu_feature_guard.cc:151] This TensorFlow binary is optimized with oneAPI Deep Neural Network Library (oneDNN) to use the following CPU instructions in performance-critical operations:  AVX2 FMA\n",
      "To enable them in other operations, rebuild TensorFlow with the appropriate compiler flags.\n"
     ]
    }
   ],
   "source": [
    "model = Sequential()\n",
    "\n",
    "model.add(Conv2D(filters = 10, kernel_size = (3, 3), padding = 'valid', name = 'conv_1'))\n",
    "model.add(MaxPooling2D(pool_size = (2, 2), strides = 2, name = 'conv_1_maxpool'))\n",
    "model.add(Activation('relu', name = 'conv_1_act'))\n",
    "\n",
    "model.add(Conv2D(filters = 10, kernel_size = (3, 3), padding = 'valid', name = 'conv_2'))\n",
    "model.add(MaxPooling2D(pool_size = (2, 2), strides = 2, name = 'conv_2_maxpool'))\n",
    "model.add(Activation('relu', name = 'softmax'))\n",
    "\n",
    "model.add(Flatten())\n",
    "model.add(Dense(units = 32, activation = 'relu', name = 'dense_1'))\n",
    "model.add(Dense(units = 10, activation = 'softmax', name = 'dense_2'))\n",
    "\n",
    "model.build(input_shape = (None, 28, 28, 1))\n",
    "model.summary()"
   ]
  },
  {
   "cell_type": "code",
   "execution_count": 3,
   "id": "a8d84a07",
   "metadata": {},
   "outputs": [
    {
     "data": {
      "text/plain": [
       "{'name': 'dense_2',\n",
       " 'trainable': True,\n",
       " 'dtype': 'float32',\n",
       " 'units': 10,\n",
       " 'activation': 'softmax',\n",
       " 'use_bias': True,\n",
       " 'kernel_initializer': {'class_name': 'GlorotUniform',\n",
       "  'config': {'seed': None}},\n",
       " 'bias_initializer': {'class_name': 'Zeros', 'config': {}},\n",
       " 'kernel_regularizer': None,\n",
       " 'bias_regularizer': None,\n",
       " 'activity_regularizer': None,\n",
       " 'kernel_constraint': None,\n",
       " 'bias_constraint': None}"
      ]
     },
     "execution_count": 3,
     "metadata": {},
     "output_type": "execute_result"
    }
   ],
   "source": [
    "final_layer = model.layers[-1]\n",
    "final_layer_config = model.layers[-1].get_config()\n",
    "final_layer_config"
   ]
  },
  {
   "cell_type": "code",
   "execution_count": 4,
   "id": "feb57fc2",
   "metadata": {},
   "outputs": [
    {
     "name": "stdout",
     "output_type": "stream",
     "text": [
      "{\n",
      " \"name\": \"dense_2\",\n",
      " \"trainable\": true,\n",
      " \"dtype\": \"float32\",\n",
      " \"units\": 10,\n",
      " \"activation\": \"softmax\",\n",
      " \"use_bias\": true,\n",
      " \"kernel_initializer\": {\n",
      "  \"class_name\": \"GlorotUniform\",\n",
      "  \"config\": {\n",
      "   \"seed\": null\n",
      "  }\n",
      " },\n",
      " \"bias_initializer\": {\n",
      "  \"class_name\": \"Zeros\",\n",
      "  \"config\": {}\n",
      " },\n",
      " \"kernel_regularizer\": null,\n",
      " \"bias_regularizer\": null,\n",
      " \"activity_regularizer\": null,\n",
      " \"kernel_constraint\": null,\n",
      " \"bias_constraint\": null\n",
      "}\n"
     ]
    }
   ],
   "source": [
    "import json\n",
    "print(json.dumps(final_layer_config, indent = 1))"
   ]
  },
  {
   "cell_type": "code",
   "execution_count": 5,
   "id": "2e49aa10",
   "metadata": {},
   "outputs": [
    {
     "data": {
      "text/plain": [
       "dict_keys(['name', 'trainable', 'dtype', 'units', 'activation', 'use_bias', 'kernel_initializer', 'bias_initializer', 'kernel_regularizer', 'bias_regularizer', 'activity_regularizer', 'kernel_constraint', 'bias_constraint'])"
      ]
     },
     "execution_count": 5,
     "metadata": {},
     "output_type": "execute_result"
    }
   ],
   "source": [
    "final_layer_config.keys()"
   ]
  },
  {
   "cell_type": "code",
   "execution_count": 6,
   "id": "4fe3632d",
   "metadata": {},
   "outputs": [
    {
     "data": {
      "text/plain": [
       "dict_values(['dense_2', True, 'float32', 10, 'softmax', True, {'class_name': 'GlorotUniform', 'config': {'seed': None}}, {'class_name': 'Zeros', 'config': {}}, None, None, None, None, None])"
      ]
     },
     "execution_count": 6,
     "metadata": {},
     "output_type": "execute_result"
    }
   ],
   "source": [
    "final_layer_config.values()"
   ]
  },
  {
   "cell_type": "code",
   "execution_count": 7,
   "id": "fc25994c",
   "metadata": {},
   "outputs": [
    {
     "name": "stdout",
     "output_type": "stream",
     "text": [
      "Layer name:  conv_1\n",
      "n filters:  10\n",
      "kernel size:  (3, 3)\n",
      "padding:  valid\n",
      "\n",
      "Layer name:  conv_1_act\n",
      "activation:  relu\n",
      "\n",
      "Layer name:  conv_2\n",
      "n filters:  10\n",
      "kernel size:  (3, 3)\n",
      "padding:  valid\n",
      "\n"
     ]
    }
   ],
   "source": [
    "for layer in model.layers:\n",
    "    layer_config = layer.get_config()\n",
    "    \n",
    "    layer_name = layer_config['name']\n",
    "    if layer_name.startswith('conv') and len(layer_name.split('_')) <= 2:\n",
    "        print('Layer name: ', layer_name)\n",
    "        print('n filters: ', layer_config['filters'])\n",
    "        print('kernel size: ', layer_config['kernel_size'])\n",
    "        print('padding: ', layer_config['padding'])\n",
    "        print()\n",
    "        \n",
    "    if layer_name.endswith('act'):\n",
    "        print('Layer name: ', layer_name)\n",
    "        print('activation: ', layer_config['activation'])\n",
    "        print()"
   ]
  },
  {
   "cell_type": "code",
   "execution_count": 8,
   "id": "379b98ea",
   "metadata": {},
   "outputs": [
    {
     "name": "stdout",
     "output_type": "stream",
     "text": [
      "<class 'list'>\n",
      "<class 'numpy.ndarray'>\n",
      "<class 'numpy.ndarray'>\n",
      "(32, 10)\n",
      "(10,)\n",
      "Number of trainable parameters: 330\n"
     ]
    }
   ],
   "source": [
    "import numpy as np\n",
    "\n",
    "print(type(final_layer.get_weights()))\n",
    "print(type(final_layer.get_weights()[0]))\n",
    "print(type(final_layer.get_weights()[1]))\n",
    "print(final_layer.get_weights()[0].shape)\n",
    "print(final_layer.get_weights()[1].shape)\n",
    "print('Number of trainable parameters:',\n",
    "      np.prod(final_layer.get_weights()[0].shape) + \\\n",
    "      np.sum(final_layer.get_weights()[1].shape))"
   ]
  }
 ],
 "metadata": {
  "kernelspec": {
   "display_name": "Python 3 (ipykernel)",
   "language": "python",
   "name": "python3"
  },
  "language_info": {
   "codemirror_mode": {
    "name": "ipython",
    "version": 3
   },
   "file_extension": ".py",
   "mimetype": "text/x-python",
   "name": "python",
   "nbconvert_exporter": "python",
   "pygments_lexer": "ipython3",
   "version": "3.8.12"
  }
 },
 "nbformat": 4,
 "nbformat_minor": 5
}

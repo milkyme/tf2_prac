{
 "cells": [
  {
   "cell_type": "code",
   "execution_count": 1,
   "id": "47998649",
   "metadata": {},
   "outputs": [],
   "source": [
    "import tensorflow as tf\n",
    "import numpy as np\n",
    "import matplotlib.pyplot as plt"
   ]
  },
  {
   "cell_type": "code",
   "execution_count": 2,
   "id": "6e016ca2",
   "metadata": {},
   "outputs": [
    {
     "name": "stderr",
     "output_type": "stream",
     "text": [
      "2022-01-13 16:49:14.084208: I tensorflow/core/platform/cpu_feature_guard.cc:151] This TensorFlow binary is optimized with oneAPI Deep Neural Network Library (oneDNN) to use the following CPU instructions in performance-critical operations:  AVX2 FMA\n",
      "To enable them in other operations, rebuild TensorFlow with the appropriate compiler flags.\n"
     ]
    }
   ],
   "source": [
    "n_sample = 100\n",
    "x_train = tf.random.normal(shape = (n_sample, 1), dtype = tf.float32)\n",
    "y_train = tf.cast((x_train >= 0), dtype = tf.float32)"
   ]
  },
  {
   "cell_type": "code",
   "execution_count": 3,
   "id": "b26d4384",
   "metadata": {},
   "outputs": [
    {
     "data": {
      "image/png": "[encoded data removed]",
      "text/plain": [
       "<Figure size 720x360 with 1 Axes>"
      ]
     },
     "metadata": {},
     "output_type": "display_data"
    }
   ],
   "source": [
    "plt.style.use('seaborn')\n",
    "fig, ax = plt.subplots(figsize = (10, 5))\n",
    "ax.scatter(x_train, y_train)\n",
    "ax.tick_params(labelsize = 10)"
   ]
  },
  {
   "cell_type": "code",
   "execution_count": 4,
   "id": "d989b267",
   "metadata": {},
   "outputs": [],
   "source": [
    "class classifier(tf.keras.Model):\n",
    "    def __init__(self):\n",
    "        super(classifier, self).__init__()\n",
    "        \n",
    "        self.d1 = tf.keras.layers.Dense(units = 1,\n",
    "                                        activation = 'sigmoid')\n",
    "        \n",
    "    def call(self, x):\n",
    "        predictions = self.d1(x)\n",
    "        return predictions"
   ]
  },
  {
   "cell_type": "code",
   "execution_count": 5,
   "id": "2e56a56d",
   "metadata": {},
   "outputs": [],
   "source": [
    "EPOCHS = 10\n",
    "LR = 0.01"
   ]
  },
  {
   "cell_type": "code",
   "execution_count": 6,
   "id": "77be13ad",
   "metadata": {},
   "outputs": [],
   "source": [
    "model = classifier()\n",
    "loss_object = tf.keras.losses.BinaryCrossentropy()\n",
    "optimizer = tf.keras.optimizers.SGD(learning_rate = LR)\n",
    "\n",
    "loss_metric = tf.keras.metrics.Mean()\n",
    "acc_metric = tf.keras.metrics.CategoricalAccuracy()"
   ]
  },
  {
   "cell_type": "code",
   "execution_count": 7,
   "id": "0fe05b8a",
   "metadata": {},
   "outputs": [
    {
     "name": "stdout",
     "output_type": "stream",
     "text": [
      "Epoch:  0\n",
      "Train Loss: 0.1409\n",
      "Train Mean Loss 0.3978\t Train Accuracy 100.0000%\n",
      "\n",
      "Epoch:  1\n",
      "Train Loss: 0.1152\n",
      "Train Mean Loss 0.3706\t Train Accuracy 100.0000%\n",
      "\n",
      "Epoch:  2\n",
      "Train Loss: 0.0954\n",
      "Train Mean Loss 0.3491\t Train Accuracy 100.0000%\n",
      "\n",
      "Epoch:  3\n",
      "Train Loss: 0.0799\n",
      "Train Mean Loss 0.3315\t Train Accuracy 100.0000%\n",
      "\n",
      "Epoch:  4\n",
      "Train Loss: 0.0676\n",
      "Train Mean Loss 0.3168\t Train Accuracy 100.0000%\n",
      "\n",
      "Epoch:  5\n",
      "Train Loss: 0.0577\n",
      "Train Mean Loss 0.3042\t Train Accuracy 100.0000%\n",
      "\n",
      "Epoch:  6\n",
      "Train Loss: 0.0497\n",
      "Train Mean Loss 0.2933\t Train Accuracy 100.0000%\n",
      "\n",
      "Epoch:  7\n",
      "Train Loss: 0.0430\n",
      "Train Mean Loss 0.2837\t Train Accuracy 100.0000%\n",
      "\n",
      "Epoch:  8\n",
      "Train Loss: 0.0375\n",
      "Train Mean Loss 0.2752\t Train Accuracy 100.0000%\n",
      "\n",
      "Epoch:  9\n",
      "Train Loss: 0.0329\n",
      "Train Mean Loss 0.2676\t Train Accuracy 100.0000%\n",
      "\n"
     ]
    }
   ],
   "source": [
    "for epoch in range(EPOCHS):\n",
    "    for x, y in zip(x_train, y_train):\n",
    "        x = tf.reshape(x, [1, 1]) # Make as matrix\n",
    "        with tf.GradientTape() as tape:\n",
    "            predictions = model(x)\n",
    "            loss = loss_object(y, predictions)\n",
    "            \n",
    "        gradients = tape.gradient(loss, model.trainable_variables)\n",
    "        optimizer.apply_gradients(zip(gradients, model.trainable_variables))\n",
    "        \n",
    "        loss_metric(loss) # loss accumulate\n",
    "        acc_metric(y, predictions)\n",
    "    \n",
    "    print('Epoch: ', epoch)\n",
    "    print('Train Loss: {:.4f}'.format(loss)) # only for a point\n",
    "    print('Train Mean Loss {:.4f}\\t Train Accuracy {:.4f}%\\n'.format(loss_metric.result(), acc_metric.result()*100)) # mean for entire points\n",
    "    \n",
    "    loss_metric.reset_states()\n",
    "    acc_metric.reset_states()"
   ]
  },
  {
   "cell_type": "code",
   "execution_count": 8,
   "id": "b6f1806f",
   "metadata": {},
   "outputs": [
    {
     "data": {
      "text/plain": [
       "[<matplotlib.lines.Line2D at 0x7fafd2e5c1f0>]"
      ]
     },
     "execution_count": 8,
     "metadata": {},
     "output_type": "execute_result"
    },
    {
     "data": {
      "image/png": "[encoded data removed]",
      "text/plain": [
       "<Figure size 720x360 with 1 Axes>"
      ]
     },
     "metadata": {},
     "output_type": "display_data"
    }
   ],
   "source": [
    "x_min, x_max = min(x_train), max(x_train)\n",
    "x_test = tf.linspace(x_min, x_max, 300)\n",
    "y_test = model(x_test)\n",
    "\n",
    "fig, ax = plt.subplots(figsize = (10, 5))\n",
    "ax.scatter(x_train, y_train)\n",
    "ax.tick_params(labelsize = 10)\n",
    "ax.plot(x_test, y_test, 'r:', linewidth = 3) # red dotted line"
   ]
  }
 ],
 "metadata": {
  "kernelspec": {
   "display_name": "Python 3 (ipykernel)",
   "language": "python",
   "name": "python3"
  },
  "language_info": {
   "codemirror_mode": {
    "name": "ipython",
    "version": 3
   },
   "file_extension": ".py",
   "mimetype": "text/x-python",
   "name": "python",
   "nbconvert_exporter": "python",
   "pygments_lexer": "ipython3",
   "version": "3.8.12"
  }
 },
 "nbformat": 4,
 "nbformat_minor": 5
}

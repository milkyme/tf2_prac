{
 "cells": [
  {
   "cell_type": "code",
   "execution_count": 1,
   "id": "587bebf1",
   "metadata": {},
   "outputs": [],
   "source": [
    "import tensorflow as tf\n",
    "import numpy as np"
   ]
  },
  {
   "cell_type": "markdown",
   "id": "7e2e8d36",
   "metadata": {},
   "source": [
    "# Operation range, Broadcasting"
   ]
  },
  {
   "cell_type": "code",
   "execution_count": 2,
   "id": "18ab6d1d",
   "metadata": {},
   "outputs": [
    {
     "name": "stdout",
     "output_type": "stream",
     "text": [
      "tf.Tensor([11 22 33], shape=(3,), dtype=int32)\n",
      "[1, 2, 3, 10, 20, 30]\n"
     ]
    },
    {
     "name": "stderr",
     "output_type": "stream",
     "text": [
      "2022-01-10 16:51:33.351058: I tensorflow/core/platform/cpu_feature_guard.cc:151] This TensorFlow binary is optimized with oneAPI Deep Neural Network Library (oneDNN) to use the following CPU instructions in performance-critical operations:  AVX2 FMA\n",
      "To enable them in other operations, rebuild TensorFlow with the appropriate compiler flags.\n"
     ]
    }
   ],
   "source": [
    "t1 = tf.constant([1, 2, 3])\n",
    "t2 = tf.constant([10, 20, 30])\n",
    "print(t1 + t2)\n",
    "\n",
    "l1 = [1, 2, 3]\n",
    "l2 = [10, 20, 30]\n",
    "print(l1 + l2)\n",
    "# python list sum -> concatenation\n",
    "# tf constant sum -> element-wise sum\n",
    "# tf operations do in level of element-wise basically except for matrix operation(E.g. +, -, *, /, %, // etc.)"
   ]
  },
  {
   "cell_type": "code",
   "execution_count": 3,
   "id": "037248ff",
   "metadata": {},
   "outputs": [
    {
     "name": "stdout",
     "output_type": "stream",
     "text": [
      "[[ 1  0  0  4]\n",
      " [ 0  1  9 -2]\n",
      " [-4  0  0 -4]] \n",
      "\n",
      "[[-4  1  2  2]] \n",
      "\n",
      "[[-3  1  2  6]\n",
      " [-4  2 11  0]\n",
      " [-8  1  2 -2]] \n",
      "\n"
     ]
    }
   ],
   "source": [
    "t3 = tf.random.normal(shape=(3, 4), mean=0, stddev=5)\n",
    "t4 = tf.random.normal(shape=(1, 4), mean=0, stddev=5)\n",
    "\n",
    "t3 = tf.cast(t3, dtype=tf.int16)\n",
    "t4 = tf.cast(t4, dtype=tf.int16)\n",
    "\n",
    "t5 = t3 + t4\n",
    "\n",
    "print(t3.numpy(), '\\n')\n",
    "print(t4.numpy(), '\\n')\n",
    "print(t5.numpy(), '\\n') # Broadcasting"
   ]
  },
  {
   "cell_type": "markdown",
   "id": "0e7df33a",
   "metadata": {},
   "source": [
    "# Reduce function"
   ]
  },
  {
   "cell_type": "markdown",
   "id": "5609d84c",
   "metadata": {},
   "source": [
    "Reduce function operates while corporating dimensions\n",
    "\n",
    "- tf.reduce_sum\n",
    "- tf.reduce_prod\n",
    "\n",
    "- tf.reduce_max\n",
    "- tf.reduce_min\n",
    "\n",
    "- tf.reduce_mean\n",
    "- tf.reduce_std\n",
    "- tf.reduce_variance\n",
    "\n",
    "- tf.reduce_all\n",
    "- tf.reduce_any"
   ]
  },
  {
   "cell_type": "code",
   "execution_count": 4,
   "id": "8e2a99b8",
   "metadata": {},
   "outputs": [
    {
     "name": "stdout",
     "output_type": "stream",
     "text": [
      "tf.Tensor(\n",
      "[[ 1  0  0  4]\n",
      " [ 0  1  9 -2]\n",
      " [-4  0  0 -4]], shape=(3, 4), dtype=int16)\n",
      "tf.Tensor(5, shape=(), dtype=int16)\n"
     ]
    }
   ],
   "source": [
    "t6 = tf.reduce_sum(t3) # sum all elements\n",
    "print(t3)\n",
    "print(t6)"
   ]
  },
  {
   "cell_type": "code",
   "execution_count": 5,
   "id": "e496ac0a",
   "metadata": {},
   "outputs": [
    {
     "name": "stdout",
     "output_type": "stream",
     "text": [
      "tf.Tensor(\n",
      "[[ 1  0  0  4]\n",
      " [ 0  1  9 -2]\n",
      " [-4  0  0 -4]], shape=(3, 4), dtype=int16)\n",
      "tf.Tensor([-3  1  9 -2], shape=(4,), dtype=int16)\n"
     ]
    }
   ],
   "source": [
    "t7 = tf.reduce_sum(t3, axis = 0) # Do summation by removing axis 0. {shape = (3, 4)}\n",
    "print(t3)\n",
    "print(t7)"
   ]
  },
  {
   "cell_type": "code",
   "execution_count": null,
   "id": "bca4b8a1",
   "metadata": {},
   "outputs": [],
   "source": []
  }
 ],
 "metadata": {
  "kernelspec": {
   "display_name": "Python 3 (ipykernel)",
   "language": "python",
   "name": "python3"
  },
  "language_info": {
   "codemirror_mode": {
    "name": "ipython",
    "version": 3
   },
   "file_extension": ".py",
   "mimetype": "text/x-python",
   "name": "python",
   "nbconvert_exporter": "python",
   "pygments_lexer": "ipython3",
   "version": "3.8.12"
  }
 },
 "nbformat": 4,
 "nbformat_minor": 5
}

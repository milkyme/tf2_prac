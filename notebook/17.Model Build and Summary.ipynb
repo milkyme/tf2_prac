{
 "cells": [
  {
   "cell_type": "code",
   "execution_count": 1,
   "id": "c6e77fd8",
   "metadata": {},
   "outputs": [],
   "source": [
    "import tensorflow as tf\n",
    "\n",
    "from tensorflow.keras.models import Model, Sequential\n",
    "from tensorflow.keras.layers import Flatten, Dense, Activation"
   ]
  },
  {
   "cell_type": "code",
   "execution_count": 2,
   "id": "c3bcbb31",
   "metadata": {},
   "outputs": [
    {
     "name": "stderr",
     "output_type": "stream",
     "text": [
      "2022-02-17 14:10:08.246472: I tensorflow/core/platform/cpu_feature_guard.cc:151] This TensorFlow binary is optimized with oneAPI Deep Neural Network Library (oneDNN) to use the following CPU instructions in performance-critical operations:  AVX2 FMA\n",
      "To enable them in other operations, rebuild TensorFlow with the appropriate compiler flags.\n"
     ]
    }
   ],
   "source": [
    "model = Sequential()\n",
    "model.add(Flatten(name = 'flatten'))\n",
    "model.add(Dense(units = 10, name = 'dense1'))\n",
    "model.add(Activation('relu', name = 'dense1_act'))\n",
    "model.add(Dense(units = 2, name = 'dense2'))\n",
    "model.add(Activation('softmax', name = 'softmax'))"
   ]
  },
  {
   "cell_type": "code",
   "execution_count": 3,
   "id": "5959b1ac",
   "metadata": {},
   "outputs": [
    {
     "name": "stdout",
     "output_type": "stream",
     "text": [
      "Model: \"sequential\"\n",
      "_________________________________________________________________\n",
      " Layer (type)                Output Shape              Param #   \n",
      "=================================================================\n",
      " flatten (Flatten)           (None, 784)               0         \n",
      "                                                                 \n",
      " dense1 (Dense)              (None, 10)                7850      \n",
      "                                                                 \n",
      " dense1_act (Activation)     (None, 10)                0         \n",
      "                                                                 \n",
      " dense2 (Dense)              (None, 2)                 22        \n",
      "                                                                 \n",
      " softmax (Activation)        (None, 2)                 0         \n",
      "                                                                 \n",
      "=================================================================\n",
      "Total params: 7,872\n",
      "Trainable params: 7,872\n",
      "Non-trainable params: 0\n",
      "_________________________________________________________________\n"
     ]
    }
   ],
   "source": [
    "model.build(input_shape=(None, 28, 28, 1))\n",
    "model.summary()"
   ]
  },
  {
   "cell_type": "markdown",
   "id": "0cb2bb63",
   "metadata": {},
   "source": [
    "- Build is not needed since we pass the data through model. But to check the model before using model, we have to build with input shape.\n",
    "- If we use sequential API for implementing model, there are two ways to build model. 1) use keras.layers.InputLayer, 2) give input_shape as argument in model.build(). But, when using sub-classing method to implement model, even after use InputLayer, input_shape argument is needed for model.build(). So, for unity, use 2nd method to build model."
   ]
  },
  {
   "cell_type": "code",
   "execution_count": 4,
   "id": "cf8da161",
   "metadata": {},
   "outputs": [],
   "source": [
    "class TestModel(Model):\n",
    "    def __init__(self):\n",
    "        super(TestModel, self).__init__()\n",
    "\n",
    "        self.flatten = Flatten()\n",
    "        self.d1 = Dense(units = 10)\n",
    "        self.d1_act = Activation('relu')\n",
    "        self.d2 = Dense(units = 2)\n",
    "        self.d2_act = Activation('softmax')\n",
    "        \n",
    "    def call(self, x):\n",
    "        x = self.flatten(x)\n",
    "        x = self.d1(x)\n",
    "        x = self.d1_act(x)\n",
    "        x = self.d2(x)\n",
    "        x = self.d2_act(x)\n",
    "        \n",
    "        return x"
   ]
  },
  {
   "cell_type": "code",
   "execution_count": 5,
   "id": "64cb89e1",
   "metadata": {},
   "outputs": [
    {
     "name": "stdout",
     "output_type": "stream",
     "text": [
      "Model: \"test_model\"\n",
      "_________________________________________________________________\n",
      " Layer (type)                Output Shape              Param #   \n",
      "=================================================================\n",
      " flatten (Flatten)           multiple                  0         \n",
      "                                                                 \n",
      " dense (Dense)               multiple                  7850      \n",
      "                                                                 \n",
      " activation (Activation)     multiple                  0         \n",
      "                                                                 \n",
      " dense_1 (Dense)             multiple                  22        \n",
      "                                                                 \n",
      " activation_1 (Activation)   multiple                  0         \n",
      "                                                                 \n",
      "=================================================================\n",
      "Total params: 7,872\n",
      "Trainable params: 7,872\n",
      "Non-trainable params: 0\n",
      "_________________________________________________________________\n"
     ]
    }
   ],
   "source": [
    "model = TestModel()\n",
    "model.build(input_shape=(None, 28, 28, 1))\n",
    "model.summary()"
   ]
  },
  {
   "cell_type": "code",
   "execution_count": 6,
   "id": "3edd5760",
   "metadata": {},
   "outputs": [
    {
     "data": {
      "text/plain": [
       "True"
      ]
     },
     "execution_count": 6,
     "metadata": {},
     "output_type": "execute_result"
    }
   ],
   "source": [
    "model.built # boolean type"
   ]
  },
  {
   "cell_type": "code",
   "execution_count": 7,
   "id": "59ec7f38",
   "metadata": {},
   "outputs": [
    {
     "name": "stdout",
     "output_type": "stream",
     "text": [
      "tf.Tensor([[0.12931198 0.870688  ]], shape=(1, 2), dtype=float32)\n"
     ]
    }
   ],
   "source": [
    "test_img = tf.random.normal((1, 28, 28, 1))\n",
    "result = model(test_img)\n",
    "print(result)"
   ]
  },
  {
   "cell_type": "code",
   "execution_count": 8,
   "id": "9ac53f42",
   "metadata": {},
   "outputs": [
    {
     "name": "stdout",
     "output_type": "stream",
     "text": [
      "[]\n"
     ]
    }
   ],
   "source": [
    "print(model.layers[0].get_weights()) # not trained yet"
   ]
  }
 ],
 "metadata": {
  "kernelspec": {
   "display_name": "Python 3 (ipykernel)",
   "language": "python",
   "name": "python3"
  },
  "language_info": {
   "codemirror_mode": {
    "name": "ipython",
    "version": 3
   },
   "file_extension": ".py",
   "mimetype": "text/x-python",
   "name": "python",
   "nbconvert_exporter": "python",
   "pygments_lexer": "ipython3",
   "version": "3.8.12"
  }
 },
 "nbformat": 4,
 "nbformat_minor": 5
}

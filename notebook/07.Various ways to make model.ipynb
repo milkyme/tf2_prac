{
 "cells": [
  {
   "cell_type": "code",
   "execution_count": 1,
   "id": "c46cd9bf",
   "metadata": {},
   "outputs": [],
   "source": [
    "#https://towardsdatascience.com/3-ways-to-create-a-machine-learning-model-with-keras-and-tensorflow-2-0-de09323af4d3"
   ]
  },
  {
   "cell_type": "markdown",
   "id": "67e6ca72",
   "metadata": {},
   "source": [
    "- There are 3 ways to create a ML model with tf 2.0: Sequential, Functional API, Model Subclassing"
   ]
  },
  {
   "cell_type": "markdown",
   "id": "21aaf6c3",
   "metadata": {},
   "source": [
    "- 1) Sequential is a linear stack of layers. It compriesd of series layers literally. It's very easy to make models but you will get into problem if the model becomes more comlicated\n",
    "- 2) Functional API uses the model like function.\n",
    "- 3) Model Subclassing is a most way to costumize layers and entire model. If you want to make complicated model that uses various layers with multiple time, subclassing is the essential procedure."
   ]
  },
  {
   "cell_type": "code",
   "execution_count": null,
   "id": "0c92f12d",
   "metadata": {},
   "outputs": [],
   "source": []
  }
 ],
 "metadata": {
  "kernelspec": {
   "display_name": "Python 3 (ipykernel)",
   "language": "python",
   "name": "python3"
  },
  "language_info": {
   "codemirror_mode": {
    "name": "ipython",
    "version": 3
   },
   "file_extension": ".py",
   "mimetype": "text/x-python",
   "name": "python",
   "nbconvert_exporter": "python",
   "pygments_lexer": "ipython3",
   "version": "3.8.12"
  }
 },
 "nbformat": 4,
 "nbformat_minor": 5
}

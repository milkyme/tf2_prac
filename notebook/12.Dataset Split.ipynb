{
 "cells": [
  {
   "cell_type": "code",
   "execution_count": 3,
   "id": "ed64aff2",
   "metadata": {},
   "outputs": [],
   "source": [
    "import tensorflow as tf\n",
    "import tensorflow_datasets as tfds"
   ]
  },
  {
   "cell_type": "code",
   "execution_count": 9,
   "id": "2ee8696f",
   "metadata": {},
   "outputs": [],
   "source": [
    "train_x = tf.range(100)\n",
    "train_y = 3*train_x + 1\n",
    "\n",
    "dataset = tf.data.Dataset.from_tensor_slices((train_x, train_y))"
   ]
  },
  {
   "cell_type": "code",
   "execution_count": 10,
   "id": "7930be60",
   "metadata": {},
   "outputs": [],
   "source": [
    "number_dataset = 100\n",
    "training_ratio = 0.8\n",
    "number_training = int(number_dataset * training_ratio)\n",
    "number_validation = number_dataset - number_training"
   ]
  },
  {
   "cell_type": "code",
   "execution_count": 11,
   "id": "06eaa540",
   "metadata": {},
   "outputs": [],
   "source": [
    "training_dataset = dataset.take(number_training)\n",
    "validation_dataset = dataset.skip(number_training).take(number_validation)"
   ]
  },
  {
   "cell_type": "code",
   "execution_count": 13,
   "id": "d4fc6f8d",
   "metadata": {},
   "outputs": [
    {
     "name": "stdout",
     "output_type": "stream",
     "text": [
      "tf.Tensor(80, shape=(), dtype=int32)\n",
      "tf.Tensor(241, shape=(), dtype=int32) \n",
      "\n"
     ]
    }
   ],
   "source": [
    "for x, y in validation_dataset:\n",
    "    print(x)\n",
    "    print(y, '\\n')\n",
    "    break"
   ]
  },
  {
   "cell_type": "markdown",
   "id": "68730156",
   "metadata": {},
   "source": [
    "---"
   ]
  },
  {
   "cell_type": "code",
   "execution_count": 17,
   "id": "d14e3bc2",
   "metadata": {},
   "outputs": [],
   "source": [
    "(training_validation_dataset, test_dataset), dataset_info = tfds.load(name = 'mnist',\n",
    "                                                           shuffle_files = True,\n",
    "                                                           as_supervised = True,\n",
    "                                                           split = ['train', 'test'],\n",
    "                                                           with_info = True)\n",
    "number_training_validation_dataset = dataset_info.splits['train'].num_examples\n",
    "training_ratio = 0.8\n",
    "number_training = int(number_training_validation_dataset * training_ratio)\n",
    "number_validation = number_training_validation_dataset - number_training"
   ]
  },
  {
   "cell_type": "code",
   "execution_count": 20,
   "id": "6c261f1e",
   "metadata": {},
   "outputs": [],
   "source": [
    "training_dataset = training_validation_dataset.take(number_training)\n",
    "validation_dataset = training_validation_dataset.skip(number_training).take(number_validation)"
   ]
  },
  {
   "cell_type": "code",
   "execution_count": 23,
   "id": "3b177d48",
   "metadata": {},
   "outputs": [
    {
     "data": {
      "text/plain": [
       "<BatchDataset shapes: ((None, 28, 28, 1), (None,)), types: (tf.uint8, tf.int64)>"
      ]
     },
     "execution_count": 23,
     "metadata": {},
     "output_type": "execute_result"
    }
   ],
   "source": [
    "training_dataset.shuffle(100).batch(32)\n",
    "validation_dataset.shuffle(100).batch(32)"
   ]
  }
 ],
 "metadata": {
  "kernelspec": {
   "display_name": "Python 3 (ipykernel)",
   "language": "python",
   "name": "python3"
  },
  "language_info": {
   "codemirror_mode": {
    "name": "ipython",
    "version": 3
   },
   "file_extension": ".py",
   "mimetype": "text/x-python",
   "name": "python",
   "nbconvert_exporter": "python",
   "pygments_lexer": "ipython3",
   "version": "3.8.12"
  }
 },
 "nbformat": 4,
 "nbformat_minor": 5
}

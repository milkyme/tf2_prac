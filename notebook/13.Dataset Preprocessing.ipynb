{
 "cells": [
  {
   "cell_type": "code",
   "execution_count": 1,
   "id": "e5393f26",
   "metadata": {},
   "outputs": [],
   "source": [
    "import tensorflow as tf\n",
    "import tensorflow_datasets as tfds"
   ]
  },
  {
   "cell_type": "code",
   "execution_count": 2,
   "id": "2f535048",
   "metadata": {},
   "outputs": [
    {
     "name": "stderr",
     "output_type": "stream",
     "text": [
      "2022-01-19 18:57:33.975092: I tensorflow/core/platform/cpu_feature_guard.cc:151] This TensorFlow binary is optimized with oneAPI Deep Neural Network Library (oneDNN) to use the following CPU instructions in performance-critical operations:  AVX2 FMA\n",
      "To enable them in other operations, rebuild TensorFlow with the appropriate compiler flags.\n"
     ]
    }
   ],
   "source": [
    "(training_dataset, test_dataset) = tfds.load(name = 'mnist',\n",
    "                                                        shuffle_files = True,\n",
    "                                                        as_supervised = True,\n",
    "                                                        split = ['train', 'test'])"
   ]
  },
  {
   "cell_type": "code",
   "execution_count": 3,
   "id": "8ffc42bd",
   "metadata": {},
   "outputs": [],
   "source": [
    "def standardization(images, labels):\n",
    "    images_f32_std = tf.cast(images, dtype = 'float32') / 255.\n",
    "    return [images_f32_std, labels]\n",
    "\n",
    "training_dataset_standardized = training_dataset.map(standardization)\n",
    "test_dataset_standardized = test_dataset.map(standardization)"
   ]
  },
  {
   "cell_type": "code",
   "execution_count": 4,
   "id": "d02be22b",
   "metadata": {},
   "outputs": [
    {
     "name": "stdout",
     "output_type": "stream",
     "text": [
      "<dtype: 'uint8'> tf.Tensor(255, shape=(), dtype=uint8)\n"
     ]
    }
   ],
   "source": [
    "training_dataset_iter = iter(training_dataset)\n",
    "images, labels = next(training_dataset_iter)\n",
    "print(images.dtype, tf.reduce_max(images))"
   ]
  },
  {
   "cell_type": "code",
   "execution_count": 5,
   "id": "3ef33eb2",
   "metadata": {},
   "outputs": [
    {
     "name": "stdout",
     "output_type": "stream",
     "text": [
      "<dtype: 'float32'> tf.Tensor(1.0, shape=(), dtype=float32)\n"
     ]
    }
   ],
   "source": [
    "training_dataset_standardized_iter = iter(training_dataset_standardized)\n",
    "images, labels = next(training_dataset_standardized_iter)\n",
    "print(images.dtype, tf.reduce_max(images))"
   ]
  }
 ],
 "metadata": {
  "kernelspec": {
   "display_name": "Python 3 (ipykernel)",
   "language": "python",
   "name": "python3"
  },
  "language_info": {
   "codemirror_mode": {
    "name": "ipython",
    "version": 3
   },
   "file_extension": ".py",
   "mimetype": "text/x-python",
   "name": "python",
   "nbconvert_exporter": "python",
   "pygments_lexer": "ipython3",
   "version": "3.8.12"
  }
 },
 "nbformat": 4,
 "nbformat_minor": 5
}

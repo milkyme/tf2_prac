{
 "cells": [
  {
   "cell_type": "code",
   "execution_count": 1,
   "metadata": {},
   "outputs": [],
   "source": [
    "import tensorflow as tf\n",
    "import matplotlib.pyplot as plt"
   ]
  },
  {
   "cell_type": "code",
   "execution_count": 2,
   "metadata": {},
   "outputs": [],
   "source": [
    "# Sequential\n",
    "# Functional\n",
    "# Model subcalssing, the lower the more free"
   ]
  },
  {
   "cell_type": "code",
   "execution_count": 3,
   "metadata": {},
   "outputs": [],
   "source": [
    "x_train = tf.random.normal(shape = (100, 1), dtype = tf.float32)\n",
    "y_train = 3*x_train + 1 + 0.2*tf.random.normal(shape = (100, 1), dtype = tf.float32)"
   ]
  },
  {
   "cell_type": "code",
   "execution_count": 4,
   "metadata": {},
   "outputs": [
    {
     "data": {
      "image/png": "[encoded data removed]",
      "text/plain": [
       "<Figure size 360x360 with 1 Axes>"
      ]
     },
     "metadata": {
      "needs_background": "light"
     },
     "output_type": "display_data"
    }
   ],
   "source": [
    "fig, ax = plt.subplots(figsize = (5, 5))\n",
    "ax.scatter(x_train.numpy(), y_train.numpy())\n",
    "ax.tick_params(labelsize = 20)\n",
    "ax.grid()"
   ]
  },
  {
   "cell_type": "code",
   "execution_count": 5,
   "metadata": {},
   "outputs": [],
   "source": [
    "model = tf.keras.models.Sequential([ \n",
    "    tf.keras.layers.Dense(units = 1, # Dense = fully connected, unit = # of neurons\n",
    "                          activation = 'linear')\n",
    "    ])"
   ]
  },
  {
   "cell_type": "code",
   "execution_count": 6,
   "metadata": {},
   "outputs": [],
   "source": [
    "model.compile(loss = 'mean_squared_error', \n",
    "              optimizer = 'SGD')"
   ]
  },
  {
   "cell_type": "code",
   "execution_count": 7,
   "metadata": {},
   "outputs": [
    {
     "name": "stdout",
     "output_type": "stream",
     "text": [
      "Epoch 1/10\n",
      "4/4 [==============================] - 0s 3ms/step - loss: 6.4334\n",
      "Epoch 2/10\n",
      "4/4 [==============================] - 0s 3ms/step - loss: 5.6358\n",
      "Epoch 3/10\n",
      "4/4 [==============================] - 0s 7ms/step - loss: 5.0245\n",
      "Epoch 4/10\n",
      "4/4 [==============================] - 0s 4ms/step - loss: 4.2972\n",
      "Epoch 5/10\n",
      "4/4 [==============================] - 0s 5ms/step - loss: 3.7949\n",
      "Epoch 6/10\n",
      "4/4 [==============================] - 0s 5ms/step - loss: 3.3400\n",
      "Epoch 7/10\n",
      "4/4 [==============================] - 0s 7ms/step - loss: 2.9735\n",
      "Epoch 8/10\n",
      "4/4 [==============================] - 0s 5ms/step - loss: 2.6609\n",
      "Epoch 9/10\n",
      "4/4 [==============================] - 0s 6ms/step - loss: 2.3358\n",
      "Epoch 10/10\n",
      "4/4 [==============================] - 0s 6ms/step - loss: 1.9828\n"
     ]
    },
    {
     "data": {
      "text/plain": [
       "<keras.callbacks.History at 0x7fc723f48850>"
      ]
     },
     "execution_count": 7,
     "metadata": {},
     "output_type": "execute_result"
    }
   ],
   "source": [
    "model.fit(x_train, y_train, epochs = 10, verbose = 1) # verbose simplifies the message"
   ]
  },
  {
   "cell_type": "code",
   "execution_count": 8,
   "metadata": {},
   "outputs": [],
   "source": [
    "# Model Sub-classing\n",
    "class LinearPredictor(tf.keras.Model):\n",
    "    def __init__(self):\n",
    "        super(LinearPredictor, self).__init__()\n",
    "        \n",
    "        self.d1 = tf.keras.layers.Dense(units = 1, activation = 'linear') # define layer\n",
    "        \n",
    "    def call(self, x): # forward propagation\n",
    "        x = self.d1(x)\n",
    "        return x"
   ]
  },
  {
   "cell_type": "code",
   "execution_count": 9,
   "metadata": {},
   "outputs": [],
   "source": [
    "# Hyperparameters\n",
    "epochs = 10\n",
    "LR = 0.01"
   ]
  },
  {
   "cell_type": "code",
   "execution_count": 10,
   "metadata": {},
   "outputs": [],
   "source": [
    "# loss function and opmizer setting\n",
    "model_class = LinearPredictor()\n",
    "\n",
    "loss_object = tf.keras.losses.MeanSquaredError()\n",
    "optimizer = tf.keras.optimizers.SGD(learning_rate = LR)"
   ]
  },
  {
   "cell_type": "code",
   "execution_count": 11,
   "metadata": {},
   "outputs": [
    {
     "name": "stdout",
     "output_type": "stream",
     "text": [
      "Epoch:  1\n",
      "Train Loss: 1.0406\n",
      "\n",
      "Epoch:  2\n",
      "Train Loss: 0.1540\n",
      "\n",
      "Epoch:  3\n",
      "Train Loss: 0.0766\n",
      "\n",
      "Epoch:  4\n",
      "Train Loss: 0.0654\n",
      "\n",
      "Epoch:  5\n",
      "Train Loss: 0.0635\n",
      "\n",
      "Epoch:  6\n",
      "Train Loss: 0.0632\n",
      "\n",
      "Epoch:  7\n",
      "Train Loss: 0.0631\n",
      "\n",
      "Epoch:  8\n",
      "Train Loss: 0.0631\n",
      "\n",
      "Epoch:  9\n",
      "Train Loss: 0.0631\n",
      "\n",
      "Epoch:  10\n",
      "Train Loss: 0.0631\n",
      "\n"
     ]
    }
   ],
   "source": [
    "# learning\n",
    "for epoch in range(epochs):\n",
    "    for x, y in zip(x_train, y_train):\n",
    "        x = tf.reshape(x, (1, 1))\n",
    "        with tf.GradientTape() as tape:\n",
    "            predictions = model_class(x) # Operate based on call defined in class\n",
    "            loss = loss_object(y, predictions)\n",
    "            \n",
    "        gradients = tape.gradient(loss, model_class.trainable_variables) # gradient about loss based on trainable_variables\n",
    "        optimizer.apply_gradients(zip(gradients, model_class.trainable_variables)) # parameter update\n",
    "        \n",
    "    print('Epoch: ', epoch+1)\n",
    "    template = 'Train Loss: {:.4f}\\n'\n",
    "    print(template.format(loss))"
   ]
  },
  {
   "cell_type": "code",
   "execution_count": null,
   "metadata": {},
   "outputs": [],
   "source": []
  }
 ],
 "metadata": {
  "kernelspec": {
   "display_name": "Python 3",
   "language": "python",
   "name": "python3"
  },
  "language_info": {
   "codemirror_mode": {
    "name": "ipython",
    "version": 3
   },
   "file_extension": ".py",
   "mimetype": "text/x-python",
   "name": "python",
   "nbconvert_exporter": "python",
   "pygments_lexer": "ipython3",
   "version": "3.8.3"
  }
 },
 "nbformat": 4,
 "nbformat_minor": 4
}

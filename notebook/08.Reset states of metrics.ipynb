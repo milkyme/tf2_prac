{
 "cells": [
  {
   "cell_type": "code",
   "execution_count": 2,
   "id": "c7bbf1f8",
   "metadata": {},
   "outputs": [],
   "source": [
    "import tensorflow as tf\n",
    "import numpy as np\n",
    "import matplotlib.pyplot as plt"
   ]
  },
  {
   "cell_type": "code",
   "execution_count": 19,
   "id": "c6923ade",
   "metadata": {},
   "outputs": [],
   "source": [
    "from tensorflow.keras.models import Sequential\n",
    "from tensorflow.keras.layers import Dense\n",
    "\n",
    "from tensorflow.keras.losses import SparseCategoricalCrossentropy\n",
    "from tensorflow.keras.optimizers import SGD\n",
    "from tensorflow.keras.metrics import SparseCategoricalAccuracy, Mean"
   ]
  },
  {
   "cell_type": "code",
   "execution_count": 16,
   "id": "83f3193f",
   "metadata": {},
   "outputs": [],
   "source": [
    "sample_size = 300\n",
    "x_train = tf.random.normal(shape = (sample_size, 1), dtype = tf.float32)\n",
    "x_train_noise = x_train + 0.2*tf.random.normal(shape = (sample_size, 1))\n",
    "y_train = tf.cast((x_train_noise > 0), dtype = tf.int32)"
   ]
  },
  {
   "cell_type": "code",
   "execution_count": 17,
   "id": "10fb60c8",
   "metadata": {},
   "outputs": [
    {
     "data": {
      "image/png": "[encoded data removed]",
      "text/plain": [
       "<Figure size 720x360 with 1 Axes>"
      ]
     },
     "metadata": {
      "needs_background": "light"
     },
     "output_type": "display_data"
    }
   ],
   "source": [
    "fig, ax = plt.subplots(figsize = (10, 5))\n",
    "ax.scatter(x_train, y_train)\n",
    "ax.tick_params(size = 10)\n",
    "ax.grid()"
   ]
  },
  {
   "cell_type": "code",
   "execution_count": 22,
   "id": "865b6970",
   "metadata": {},
   "outputs": [],
   "source": [
    "train_dataset = tf.data.Dataset.from_tensor_slices((x_train, y_train))\n",
    "train_dataset = train_dataset.shuffle(sample_size).batch(6)"
   ]
  },
  {
   "cell_type": "code",
   "execution_count": 24,
   "id": "4b616222",
   "metadata": {},
   "outputs": [],
   "source": [
    "model = Sequential()\n",
    "model.add(Dense(units = 2, activation = 'softmax'))"
   ]
  },
  {
   "cell_type": "code",
   "execution_count": 25,
   "id": "68f857c3",
   "metadata": {},
   "outputs": [],
   "source": [
    "loss_object = SparseCategoricalCrossentropy()\n",
    "optimizer = SGD(learning_rate = 1)\n",
    "\n",
    "train_loss = Mean()\n",
    "train_acc = SparseCategoricalAccuracy()\n",
    "\n",
    "EPOCHS = 10"
   ]
  },
  {
   "cell_type": "code",
   "execution_count": 27,
   "id": "fba77d1b",
   "metadata": {},
   "outputs": [
    {
     "name": "stdout",
     "output_type": "stream",
     "text": [
      "Epoch: 0 Train loss: 0.2163\t Train accuracy: 93.67%\n",
      "\n",
      "Epoch: 1 Train loss: 0.1590\t Train accuracy: 94.33%\n",
      "\n",
      "Epoch: 2 Train loss: 0.1480\t Train accuracy: 95.00%\n",
      "\n",
      "Epoch: 3 Train loss: 0.1497\t Train accuracy: 93.00%\n",
      "\n",
      "Epoch: 4 Train loss: 0.1460\t Train accuracy: 94.00%\n",
      "\n",
      "Epoch: 5 Train loss: 0.1426\t Train accuracy: 94.00%\n",
      "\n",
      "Epoch: 6 Train loss: 0.1403\t Train accuracy: 94.67%\n",
      "\n",
      "Epoch: 7 Train loss: 0.1435\t Train accuracy: 94.33%\n",
      "\n",
      "Epoch: 8 Train loss: 0.1451\t Train accuracy: 93.33%\n",
      "\n",
      "Epoch: 9 Train loss: 0.1419\t Train accuracy: 93.67%\n",
      "\n"
     ]
    }
   ],
   "source": [
    "for epoch in range(EPOCHS):\n",
    "    for x, y in train_dataset:\n",
    "        with tf.GradientTape() as tape:\n",
    "            predictions = model(x)\n",
    "            loss = loss_object(y, predictions)\n",
    "            \n",
    "        gradients = tape.gradient(loss, model.trainable_variables)\n",
    "        optimizer.apply_gradients(zip(gradients, model.trainable_variables))\n",
    "        \n",
    "        train_loss(loss)\n",
    "        train_acc(y, predictions)\n",
    "        \n",
    "    print('Epoch:', epoch, 'Train loss: {:.4f}\\t Train accuracy: {:.2f}%\\n'.format(train_loss.result(), train_acc.result()*100))\n",
    "    \n",
    "    train_loss.reset_states()\n",
    "    train_acc.reset_states()"
   ]
  },
  {
   "cell_type": "code",
   "execution_count": 28,
   "id": "b199e222",
   "metadata": {},
   "outputs": [
    {
     "name": "stdout",
     "output_type": "stream",
     "text": [
      "tf.Tensor(1.0, shape=(), dtype=float32)\n",
      "tf.Tensor(1.5, shape=(), dtype=float32)\n",
      "tf.Tensor(2.0, shape=(), dtype=float32)\n",
      "tf.Tensor(2.5, shape=(), dtype=float32)\n",
      "tf.Tensor(3.0, shape=(), dtype=float32)\n",
      "tf.Tensor(3.5, shape=(), dtype=float32)\n",
      "\n",
      "\n",
      "tf.Tensor(3.142857, shape=(), dtype=float32)\n",
      "tf.Tensor(3.0, shape=(), dtype=float32)\n",
      "tf.Tensor(3.0, shape=(), dtype=float32)\n",
      "tf.Tensor(3.1, shape=(), dtype=float32)\n",
      "tf.Tensor(3.2727273, shape=(), dtype=float32)\n",
      "tf.Tensor(3.5, shape=(), dtype=float32)\n"
     ]
    }
   ],
   "source": [
    "t1 = tf.constant([1, 2, 3, 4, 5, 6])\n",
    "for t in t1:\n",
    "    train_loss(t)\n",
    "    print(train_loss.result())\n",
    "    \n",
    "print('\\n')\n",
    "\n",
    "t1 = tf.constant([1, 2, 3, 4, 5, 6])\n",
    "for t in t1:\n",
    "    train_loss(t)\n",
    "    print(train_loss.result())"
   ]
  },
  {
   "cell_type": "code",
   "execution_count": 31,
   "id": "62f9f68c",
   "metadata": {},
   "outputs": [
    {
     "name": "stdout",
     "output_type": "stream",
     "text": [
      "tf.Tensor(1.0, shape=(), dtype=float32)\n",
      "tf.Tensor(1.5, shape=(), dtype=float32)\n",
      "tf.Tensor(2.0, shape=(), dtype=float32)\n",
      "tf.Tensor(2.5, shape=(), dtype=float32)\n",
      "tf.Tensor(3.0, shape=(), dtype=float32)\n",
      "tf.Tensor(3.5, shape=(), dtype=float32)\n",
      "\n",
      "\n",
      "tf.Tensor(1.0, shape=(), dtype=float32)\n",
      "tf.Tensor(1.5, shape=(), dtype=float32)\n",
      "tf.Tensor(2.0, shape=(), dtype=float32)\n",
      "tf.Tensor(2.5, shape=(), dtype=float32)\n",
      "tf.Tensor(3.0, shape=(), dtype=float32)\n",
      "tf.Tensor(3.5, shape=(), dtype=float32)\n"
     ]
    }
   ],
   "source": [
    "train_loss.reset_states()\n",
    "t1 = tf.constant([1, 2, 3, 4, 5, 6])\n",
    "for t in t1:\n",
    "    train_loss(t)\n",
    "    print(train_loss.result())\n",
    "    \n",
    "print('\\n')\n",
    "train_loss.reset_states() # reset loss and calculate independently for each epoch\n",
    "\n",
    "t1 = tf.constant([1, 2, 3, 4, 5, 6])\n",
    "for t in t1:\n",
    "    train_loss(t)\n",
    "    print(train_loss.result())"
   ]
  },
  {
   "cell_type": "code",
   "execution_count": null,
   "id": "54c19d6b",
   "metadata": {},
   "outputs": [],
   "source": [
    "()"
   ]
  }
 ],
 "metadata": {
  "kernelspec": {
   "display_name": "Python 3 (ipykernel)",
   "language": "python",
   "name": "python3"
  },
  "language_info": {
   "codemirror_mode": {
    "name": "ipython",
    "version": 3
   },
   "file_extension": ".py",
   "mimetype": "text/x-python",
   "name": "python",
   "nbconvert_exporter": "python",
   "pygments_lexer": "ipython3",
   "version": "3.8.12"
  }
 },
 "nbformat": 4,
 "nbformat_minor": 5
}
